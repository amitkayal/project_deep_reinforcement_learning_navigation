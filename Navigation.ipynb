{
 "cells": [
  {
   "cell_type": "markdown",
   "metadata": {},
   "source": [
    "# Navigation\n",
    "\n",
    "---\n",
    "\n",
    "You are welcome to use this coding environment to train your agent for the project.  Follow the instructions below to get started!\n",
    "\n",
    "### 1. Start the Environment\n",
    "\n",
    "Run the next code cell to install a few packages.  This line will take a few minutes to run!"
   ]
  },
  {
   "cell_type": "code",
   "execution_count": 1,
   "metadata": {},
   "outputs": [],
   "source": [
    "import sys\n",
    "sys.path.append('E:/udacity_deep_reinforcement_learning/deep-reinforcement-learning-master/python')"
   ]
  },
  {
   "cell_type": "markdown",
   "metadata": {},
   "source": [
    "The environment is already saved in the Workspace and can be accessed at the file path provided below.  Please run the next code cell without making any changes."
   ]
  },
  {
   "cell_type": "code",
   "execution_count": 2,
   "metadata": {},
   "outputs": [
    {
     "name": "stderr",
     "output_type": "stream",
     "text": [
      "INFO:unityagents:\n",
      "'Academy' started successfully!\n",
      "Unity Academy name: Academy\n",
      "        Number of Brains: 1\n",
      "        Number of External Brains : 1\n",
      "        Lesson number : 0\n",
      "        Reset Parameters :\n",
      "\t\t\n",
      "Unity brain name: BananaBrain\n",
      "        Number of Visual Observations (per agent): 0\n",
      "        Vector Observation space type: continuous\n",
      "        Vector Observation space size (per agent): 37\n",
      "        Number of stacked Vector Observation: 1\n",
      "        Vector Action space type: discrete\n",
      "        Vector Action space size (per agent): 4\n",
      "        Vector Action descriptions: , , , \n"
     ]
    }
   ],
   "source": [
    "from unityagents import UnityEnvironment\n",
    "import numpy as np\n",
    "import time\n",
    "from collections import deque\n",
    "import matplotlib.pyplot as plt\n",
    "import torch\n",
    "\n",
    "\n",
    "env = UnityEnvironment(file_name=\"./Banana_Windows_x86_64/Banana.exe\") "
   ]
  },
  {
   "cell_type": "markdown",
   "metadata": {},
   "source": [
    "Environments contain **_brains_** which are responsible for deciding the actions of their associated agents. Here we check for the first brain available, and set it as the default brain we will be controlling from Python."
   ]
  },
  {
   "cell_type": "code",
   "execution_count": 3,
   "metadata": {},
   "outputs": [],
   "source": [
    "# get the default brain\n",
    "brain_name = env.brain_names[0]\n",
    "brain = env.brains[brain_name]"
   ]
  },
  {
   "cell_type": "markdown",
   "metadata": {},
   "source": [
    "### 2. Examine the State and Action Spaces\n",
    "\n",
    "Run the code cell below to print some information about the environment."
   ]
  },
  {
   "cell_type": "code",
   "execution_count": 4,
   "metadata": {},
   "outputs": [
    {
     "name": "stdout",
     "output_type": "stream",
     "text": [
      "Number of agents: 1\n",
      "Number of actions: 4\n",
      "States look like: [1.         0.         0.         0.         0.84408134 0.\n",
      " 0.         1.         0.         0.0748472  0.         1.\n",
      " 0.         0.         0.25755    1.         0.         0.\n",
      " 0.         0.74177343 0.         1.         0.         0.\n",
      " 0.25854847 0.         0.         1.         0.         0.09355672\n",
      " 0.         1.         0.         0.         0.31969345 0.\n",
      " 0.        ]\n",
      "States have length: 37\n"
     ]
    }
   ],
   "source": [
    "# reset the environment\n",
    "env_info = env.reset(train_mode=True)[brain_name]\n",
    "\n",
    "# number of agents in the environment\n",
    "print('Number of agents:', len(env_info.agents))\n",
    "\n",
    "# number of actions\n",
    "action_size = brain.vector_action_space_size\n",
    "print('Number of actions:', action_size)\n",
    "\n",
    "# examine the state space \n",
    "state = env_info.vector_observations[0]\n",
    "print('States look like:', state)\n",
    "state_size = len(state)\n",
    "print('States have length:', state_size)"
   ]
  },
  {
   "cell_type": "markdown",
   "metadata": {},
   "source": [
    "### 3. Take Random Actions in the Environment\n",
    "\n",
    "In the next code cell, you will learn how to use the Python API to control the agent and receive feedback from the environment.\n",
    "\n",
    "Note that **in this coding environment, you will not be able to watch the agent while it is training**, and you should set `train_mode=True` to restart the environment."
   ]
  },
  {
   "cell_type": "code",
   "execution_count": 5,
   "metadata": {},
   "outputs": [
    {
     "name": "stdout",
     "output_type": "stream",
     "text": [
      "Score: 0.0\n"
     ]
    }
   ],
   "source": [
    "env_info = env.reset(train_mode=True)[brain_name] # reset the environment\n",
    "state = env_info.vector_observations[0]            # get the current state\n",
    "score = 0                                          # initialize the score\n",
    "while True:\n",
    "    action = np.random.randint(action_size)        # select an action\n",
    "    env_info = env.step(action)[brain_name]        # send the action to the environment\n",
    "    next_state = env_info.vector_observations[0]   # get the next state\n",
    "    reward = env_info.rewards[0]                   # get the reward\n",
    "    done = env_info.local_done[0]                  # see if episode has finished\n",
    "    score += reward                                # update the score\n",
    "    state = next_state                             # roll over the state to next time step\n",
    "    if done:                                       # exit loop if episode finished\n",
    "        break\n",
    "    \n",
    "print(\"Score: {}\".format(score))"
   ]
  },
  {
   "cell_type": "markdown",
   "metadata": {},
   "source": [
    "### 4. It's Your Turn!\n",
    "\n",
    "Now it's your turn to train your own agent to solve the environment!  A few **important notes**:\n",
    "- When training the environment, set `train_mode=True`, so that the line for resetting the environment looks like the following:\n",
    "```python\n",
    "env_info = env.reset(train_mode=True)[brain_name]\n",
    "```\n",
    "- To structure your work, you're welcome to work directly in this Jupyter notebook, or you might like to start over with a new file!  You can see the list of files in the workspace by clicking on **_Jupyter_** in the top left corner of the notebook.\n",
    "- In this coding environment, you will not be able to watch the agent while it is training.  However, **_after training the agent_**, you can download the saved model weights to watch the agent on your own machine! "
   ]
  },
  {
   "cell_type": "markdown",
   "metadata": {},
   "source": [
    "## Define methods to be used for training\n",
    "\n",
    "In next two cells, I have defined three methods that will be used during the training\n",
    "* reduce_learning_rate: This method reduces learning rate of optimizer by a factor\n",
    "* learning_rate_adjustment_needed: This method checks whether learning rate adjustment is needed\n",
    "* dqn: This method does the actual training using Double Deep Q learning algorithm. I have modified the original method as below:\n",
    "- It takes, hidden layer and path for best and final model as parameters. \n",
    "- Logic is chnaged if after 400 episodes the mean score does not chnage by 1.0  over last 100 episdes, learning rate is reduced by a factor\n",
    "- . Each episode if mean score is better the correspondin model is stored as best model so far. \n",
    "- In adddition to scores, I have added mean_score_list, number_of_steps_list which will store mean score after each episode  and steps taken in the episode which will be used for analysis later\n",
    "\n",
    "### NOTE: Though as per project description, the goal of agent is to must get an average score of +13 over 100 consecutive episodes. But I have increased this limit to score as 17 over 100 consecutive episodes\n"
   ]
  },
  {
   "cell_type": "code",
   "execution_count": 6,
   "metadata": {},
   "outputs": [],
   "source": [
    "def reduce_learning_rate(optimizer, episode, factor):\n",
    "    \"\"\"Reduce the learning rate by multiplying factor applicable only if epoch is more than 400\n",
    "       Parameters:\n",
    "       optimizer: Optimizer Used\n",
    "       episode: Current Episode\n",
    "       factor: The multiplication factory by which learning rate needs to be reduced\n",
    "    \"\"\"\n",
    "    # If episode is less than 400, do not do anything\n",
    "    if episode <=400:\n",
    "        return\n",
    "    \n",
    "    # Update the learning Rate by multiplying by factor and update only if\n",
    "    # new learning rate is not less than 1e-6\n",
    "    for param_group in optimizer.param_groups:\n",
    "        change_lr_value=np.around(param_group['lr']*factor, 8)\n",
    "        if change_lr_value <= 0.000001:\n",
    "            change_lr_value = 0.000001  \n",
    "        param_group['lr'] = change_lr_value\n",
    "        print(\"\\nAs mean score over 100 episodes did not improve by 1.0 after 100 episodes, learning rate has been changed to: \" +str(param_group['lr']))\n",
    "            \n",
    "def learning_rate_adjustment_needed(mean_score_list, episode, episode_last_lr_update):\n",
    "    \"\"\"This method finds out if adjustment of learning rate is needed or not. \n",
    "       The logic is find the difference between current mean score and the mean score \n",
    "       100 episodes back. If the diffrence is less than 1.0, then learning rate adjustment is needed\n",
    "       and the method will return True, else the method will return False\n",
    "      \n",
    "       Parameters:\n",
    "       mean_score_list: List\n",
    "       episode: Current Episode\n",
    "       factor: The multiplication factory by which learning rate needs to be reduced\n",
    "    \"\"\"\n",
    "    if episode-episode_last_lr_update < 100:\n",
    "        return False\n",
    "    if len(mean_score_list) < 100:\n",
    "        return False\n",
    "    mean_score_current = mean_score_list[-1]\n",
    "    mean_score_100_before = mean_score_list[-100]\n",
    "    if (mean_score_current - mean_score_100_before) < 1.0:\n",
    "        return True\n",
    "    else:\n",
    "        return False"
   ]
  },
  {
   "cell_type": "code",
   "execution_count": 7,
   "metadata": {},
   "outputs": [],
   "source": [
    "from dqn_agent import Agent\n",
    "\n",
    "\n",
    "def dqn(hidden_layers, best_model_save_path, final_model_save_path, n_episodes=2000, max_t=1000, eps_start=1.0, eps_end=0.01, eps_decay=0.995, learning_reduction_factor=0.7):\n",
    "    \"\"\"Deep Q-Learning.\n",
    "    \n",
    "    Params\n",
    "    ======\n",
    "        n_episodes (int): maximum number of training episodes\n",
    "        max_t (int): maximum number of timesteps per episode\n",
    "        eps_start (float): starting value of epsilon, for epsilon-greedy action selection\n",
    "        eps_end (float): minimum value of epsilon\n",
    "        eps_decay (float): multiplicative factor (per episode) for decreasing epsilon\n",
    "        hidden_layers(list): Dimension of hidden layers to be used\n",
    "        best_model_save_path(string): Save path for best model\n",
    "        final_model_save_path(string); Save path for final model\n",
    "    Returns\n",
    "    ======\n",
    "       scores(list): List of raw scores of each episode\n",
    "       mean_score_list(list): List of mean scores over last 100 episodes calcuated after each episode\n",
    "       number_of_steps_list(list): List of number of steps taken in each episode\n",
    "    \"\"\"\n",
    "    agent = Agent(state_size=37, action_size=4, seed=32, hidden_layers=hidden_layers)\n",
    "    scores = []                        # list containing scores from each episode\n",
    "    scores_window = deque(maxlen=100)  # last 100 scores\n",
    "    mean_score_list = []                    # Store last 100 episode mean score\n",
    "    number_of_steps_list = []          # Store number of steps taken\n",
    "    eps = eps_start                    # initialize epsilon\n",
    "    episode_last_lr_update = 0\n",
    "\n",
    "    for i_episode in range(1, n_episodes+1):     \n",
    "        env_info = env.reset(train_mode=True)[brain_name] # reset the environment\n",
    "        state = env_info.vector_observations[0]            # get the current state\n",
    "        score = 0   # initialize the score\n",
    "        for t in range(max_t): #this could also be while True instead\n",
    "            action = agent.act(state, eps)        # select an action\n",
    "            env_info = env.step(action)[brain_name]        # send the action to the environment\n",
    "            next_state = env_info.vector_observations[0]   # get the next state\n",
    "            reward = env_info.rewards[0]                   # get the reward\n",
    "            done = env_info.local_done[0]                  # see if episode has finished\n",
    "            agent.step(state, action, reward, next_state, done) #do the learning\n",
    "\n",
    "            score += reward                                # update the score\n",
    "            state = next_state                             # roll over the state to next time step\n",
    "            if done:                                       # exit loop if episode finished\n",
    "                break\n",
    "        \n",
    "        number_of_steps_list.append(t)    # Save number of steps taken in each episode\n",
    "        scores_window.append(score)       # save most recent score\n",
    "        scores.append(score)              # save most recent score\n",
    "        mean_score_list.append(np.mean(scores_window))   # Save the mean score over last 100 episodes\n",
    "        eps = max(eps_end, eps_decay*eps) # decrease epsilon\n",
    "        print('\\rEpisode {}\\tAverage Score: {:.2f}'.format(i_episode, np.mean(scores_window)), end=\"\")\n",
    "        if i_episode % 100 == 0:\n",
    "            print('\\rEpisode {}\\tAverage Score: {:.2f}'.format(i_episode, np.mean(scores_window)))\n",
    "        if np.mean(scores_window)>=17.0:\n",
    "            print('\\nEnvironment solved in {:d} episodes!\\tAverage Score: {:.2f}'.format(i_episode-100, np.mean(scores_window)))\n",
    "            torch.save(agent.qnetwork_local.state_dict(), final_model_save_path)\n",
    "            break\n",
    "            \n",
    "        if learning_rate_adjustment_needed(mean_score_list, i_episode, episode_last_lr_update):\n",
    "            reduce_learning_rate(agent.get_optimizer(), i_episode, learning_reduction_factor)\n",
    "            episode_last_lr_update = i_episode\n",
    "            \n",
    "        # Save the model if he mean score is greater than best so far\n",
    "        if i_episode == 1:\n",
    "            torch.save(agent.qnetwork_local.state_dict(), best_model_save_path) \n",
    "        else:\n",
    "            if np.mean(scores_window) > np.max(mean_score_list):\n",
    "                torch.save(agent.qnetwork_local.state_dict(), best_model_save_path) \n",
    "                \n",
    "    # Store the final model        \n",
    "    torch.save(agent.qnetwork_local.state_dict(), final_model_save_path) \n",
    "    return scores, mean_score_list, number_of_steps_list"
   ]
  },
  {
   "cell_type": "markdown",
   "metadata": {},
   "source": [
    "## Try Neural Network of hidden layer dimensions as  32x64x32\n",
    "\n",
    "Now I will try neural network of 32x64x32 to apply to DQN algoritm and se how it performs"
   ]
  },
  {
   "cell_type": "code",
   "execution_count": 8,
   "metadata": {
    "scrolled": true
   },
   "outputs": [
    {
     "name": "stdout",
     "output_type": "stream",
     "text": [
      "Episode 100\tAverage Score: 0.82\n",
      "Episode 200\tAverage Score: 3.92\n",
      "Episode 300\tAverage Score: 7.32\n",
      "Episode 400\tAverage Score: 10.64\n",
      "Episode 500\tAverage Score: 14.41\n",
      "Episode 564\tAverage Score: 14.70\n",
      "As mean score over 100 episodes did not improve by 1.0 after 100 episodes, learning rate has been changed to: 0.00035\n",
      "Episode 600\tAverage Score: 14.81\n",
      "Episode 664\tAverage Score: 15.42\n",
      "As mean score over 100 episodes did not improve by 1.0 after 100 episodes, learning rate has been changed to: 0.000245\n",
      "Episode 700\tAverage Score: 15.70\n",
      "Episode 764\tAverage Score: 15.96\n",
      "As mean score over 100 episodes did not improve by 1.0 after 100 episodes, learning rate has been changed to: 0.0001715\n",
      "Episode 800\tAverage Score: 16.49\n",
      "Episode 864\tAverage Score: 16.87\n",
      "As mean score over 100 episodes did not improve by 1.0 after 100 episodes, learning rate has been changed to: 0.00012005\n",
      "Episode 900\tAverage Score: 16.70\n",
      "Episode 960\tAverage Score: 17.03\n",
      "Environment solved in 860 episodes!\tAverage Score: 17.03\n",
      "Training Time is 2595.2395420074463\n"
     ]
    }
   ],
   "source": [
    "best_model_save_path=\"dqn_best_model_32_64_32.pth\"\n",
    "final_model_save_path=\"dqn_final_model_32_64_32.pth\"\n",
    "hidden_layers=[32,64,32]\n",
    "\n",
    "start_time = time.time()\n",
    "scores, mean_score_list, number_of_steps_list = dqn(hidden_layers, best_model_save_path, final_model_save_path, n_episodes=2000, max_t=1000, eps_start=1.0, eps_end=0.01, eps_decay=0.995, learning_reduction_factor=0.7)\n",
    "end_time = time.time()\n",
    "print('Training Time is {}'.format(end_time-start_time ))\n"
   ]
  },
  {
   "cell_type": "code",
   "execution_count": null,
   "metadata": {},
   "outputs": [],
   "source": [
    "best_mean_score=np.max(mean_score_list)\n",
    "print(\"Best Mean Score: \"+ str(best_mean_score))"
   ]
  },
  {
   "cell_type": "markdown",
   "metadata": {},
   "source": [
    "## Plot scores against episodes"
   ]
  },
  {
   "cell_type": "code",
   "execution_count": 10,
   "metadata": {},
   "outputs": [
    {
     "data": {
      "image/png": "[encoded data removed]",
      "text/plain": [
       "<Figure size 432x288 with 1 Axes>"
      ]
     },
     "metadata": {},
     "output_type": "display_data"
    }
   ],
   "source": [
    "# plot the scores\n",
    "fig = plt.figure()\n",
    "ax = fig.add_subplot(111)\n",
    "plt.plot(np.arange(len(scores)), scores)\n",
    "plt.ylabel('Score')\n",
    "plt.xlabel('Episode #')\n",
    "plt.show()"
   ]
  },
  {
   "cell_type": "markdown",
   "metadata": {},
   "source": [
    "## Plot mean scores against episodes"
   ]
  },
  {
   "cell_type": "code",
   "execution_count": 11,
   "metadata": {},
   "outputs": [
    {
     "data": {
      "image/png": "[encoded data removed]",
      "text/plain": [
       "<Figure size 432x288 with 1 Axes>"
      ]
     },
     "metadata": {},
     "output_type": "display_data"
    }
   ],
   "source": [
    "# plot the scores\n",
    "fig = plt.figure()\n",
    "ax = fig.add_subplot(111)\n",
    "plt.plot(np.arange(len(mean_score_list)), mean_score_list)\n",
    "plt.ylabel('Mean Score')\n",
    "plt.xlabel('Episode #')\n",
    "plt.show()"
   ]
  },
  {
   "cell_type": "markdown",
   "metadata": {},
   "source": [
    "## Plot steps over episodes"
   ]
  },
  {
   "cell_type": "code",
   "execution_count": 12,
   "metadata": {
    "scrolled": true
   },
   "outputs": [
    {
     "data": {
      "image/png": "[encoded data removed]",
      "text/plain": [
       "<Figure size 432x288 with 1 Axes>"
      ]
     },
     "metadata": {},
     "output_type": "display_data"
    }
   ],
   "source": [
    "# plot the number of steps against episodes\n",
    "fig = plt.figure()\n",
    "ax = fig.add_subplot(111)\n",
    "plt.plot(np.arange(len(number_of_steps_list)), number_of_steps_list)\n",
    "plt.ylabel('Number of steps')\n",
    "plt.xlabel('Episode #')\n",
    "plt.show()"
   ]
  },
  {
   "cell_type": "markdown",
   "metadata": {},
   "source": [
    "## Try with Neural network having hidden layers 64x64x64"
   ]
  },
  {
   "cell_type": "code",
   "execution_count": 13,
   "metadata": {},
   "outputs": [
    {
     "name": "stdout",
     "output_type": "stream",
     "text": [
      "Episode 100\tAverage Score: 0.47\n",
      "Episode 200\tAverage Score: 3.16\n",
      "Episode 300\tAverage Score: 6.96\n",
      "Episode 400\tAverage Score: 10.30\n",
      "Episode 500\tAverage Score: 11.76\n",
      "Episode 600\tAverage Score: 13.76\n",
      "Episode 698\tAverage Score: 14.79\n",
      "As mean score over 100 episodes did not improve by 1.0 after 100 episodes, learning rate has been changed to: 0.00035\n",
      "Episode 700\tAverage Score: 14.96\n",
      "Episode 800\tAverage Score: 16.49\n",
      "Episode 809\tAverage Score: 17.00\n",
      "Environment solved in 709 episodes!\tAverage Score: 17.00\n",
      "Training Time is 2193.7672097682953\n"
     ]
    }
   ],
   "source": [
    "best_model_save_path=\"dqn_best_model_64_64_64.pth\"\n",
    "final_model_save_path=\"dqn_final_model_64_64_64.pth\"\n",
    "hidden_layers=[64,64,64]\n",
    "\n",
    "start_time = time.time()\n",
    "scores, mean_score_list, number_of_steps_list = dqn(hidden_layers, best_model_save_path, final_model_save_path, n_episodes=2000, max_t=1000, eps_start=1.0, eps_end=0.01, eps_decay=0.995, learning_reduction_factor=0.7)\n",
    "end_time = time.time()\n",
    "print('Training Time is {}'.format(end_time-start_time ))"
   ]
  },
  {
   "cell_type": "markdown",
   "metadata": {},
   "source": [
    "## Plot scores against episodes"
   ]
  },
  {
   "cell_type": "code",
   "execution_count": 14,
   "metadata": {
    "scrolled": true
   },
   "outputs": [
    {
     "data": {
      "image/png": "[encoded data removed]",
      "text/plain": [
       "<Figure size 432x288 with 1 Axes>"
      ]
     },
     "metadata": {},
     "output_type": "display_data"
    }
   ],
   "source": [
    "# plot the scores\n",
    "fig = plt.figure()\n",
    "ax = fig.add_subplot(111)\n",
    "plt.plot(np.arange(len(scores)), scores)\n",
    "plt.ylabel('Score')\n",
    "plt.xlabel('Episode #')\n",
    "plt.show()"
   ]
  },
  {
   "cell_type": "markdown",
   "metadata": {},
   "source": [
    "## Plot Mean scores over episodes"
   ]
  },
  {
   "cell_type": "code",
   "execution_count": 15,
   "metadata": {
    "scrolled": true
   },
   "outputs": [
    {
     "data": {
      "image/png": "[encoded data removed]",
      "text/plain": [
       "<Figure size 432x288 with 1 Axes>"
      ]
     },
     "metadata": {},
     "output_type": "display_data"
    }
   ],
   "source": [
    "# plot the mean scores over last 100 consecutive episodes vs episode\n",
    "fig = plt.figure()\n",
    "ax = fig.add_subplot(111)\n",
    "plt.plot(np.arange(len(mean_score_list)), mean_score_list)\n",
    "plt.ylabel('Mean Score')\n",
    "plt.xlabel('Episode #')\n",
    "plt.show()"
   ]
  },
  {
   "cell_type": "markdown",
   "metadata": {},
   "source": [
    "## Plot number of steps against episodes"
   ]
  },
  {
   "cell_type": "code",
   "execution_count": 16,
   "metadata": {
    "scrolled": true
   },
   "outputs": [
    {
     "data": {
      "image/png": "[encoded data removed]",
      "text/plain": [
       "<Figure size 432x288 with 1 Axes>"
      ]
     },
     "metadata": {},
     "output_type": "display_data"
    }
   ],
   "source": [
    "# plot the number of steps against episodes\n",
    "fig = plt.figure()\n",
    "ax = fig.add_subplot(111)\n",
    "plt.plot(np.arange(len(number_of_steps_list)), number_of_steps_list)\n",
    "plt.ylabel('Number of steps')\n",
    "plt.xlabel('Episode #')\n",
    "plt.show()"
   ]
  },
  {
   "cell_type": "markdown",
   "metadata": {},
   "source": [
    "## Conclusion\n",
    "\n",
    "I have tried two different neural networks with DQN. One network having hidden dimensions 32x64x32 and second having hidden layer dimension 64x64x64.\n",
    "\n",
    "Comparisons are as below:\n",
    "\n",
    "i. Neural network having 64x64x64 solves in 809 episodes which is 151 episodes less than 32x64x32 which solves in 960 episodes\n",
    "ii. Scores (Rewards) earned in each episode by 64x64x64 is having less variance than rewards earned by 32x64x32\n",
    "ii. Slope of mean scores vs episodes in 64x64x64 network is much higher than slope of mean scores vs episodes curve used by 32x64x32\n",
    "\n",
    "So, overall I found that 64x64x64 is performing better than 32x64x32 network\n",
    "\n"
   ]
  },
  {
   "cell_type": "code",
   "execution_count": 17,
   "metadata": {},
   "outputs": [],
   "source": [
    "\n",
    "env.close()"
   ]
  },
  {
   "cell_type": "code",
   "execution_count": null,
   "metadata": {},
   "outputs": [],
   "source": []
  }
 ],
 "metadata": {
  "kernelspec": {
   "display_name": "Python 3",
   "language": "python",
   "name": "python3"
  },
  "language_info": {
   "codemirror_mode": {
    "name": "ipython",
    "version": 3
   },
   "file_extension": ".py",
   "mimetype": "text/x-python",
   "name": "python",
   "nbconvert_exporter": "python",
   "pygments_lexer": "ipython3",
   "version": "3.6.4"
  }
 },
 "nbformat": 4,
 "nbformat_minor": 2
}
